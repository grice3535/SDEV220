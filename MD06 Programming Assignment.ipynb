{
 "cells": [
  {
   "cell_type": "code",
   "execution_count": 2,
   "id": "4cf0854f-7203-4dc7-941c-8dd15d593c32",
   "metadata": {},
   "outputs": [],
   "source": [
    "from datetime import date\n",
    "\n",
    "today = date.today()\n",
    "\n",
    "with open(\"today.txt\", \"w\") as file:\n",
    "    file.write(today.isoformat())"
   ]
  },
  {
   "cell_type": "code",
   "execution_count": 4,
   "id": "962219f9-7c51-4865-9ca7-6ee565556520",
   "metadata": {},
   "outputs": [
    {
     "name": "stdout",
     "output_type": "stream",
     "text": [
      "2025-10-01\n"
     ]
    }
   ],
   "source": [
    "with open(\"today.txt\", \"r\") as file:\n",
    "    today_string = file.read()\n",
    "\n",
    "print(today_string)"
   ]
  },
  {
   "cell_type": "code",
   "execution_count": 6,
   "id": "84894a53-6037-4095-b0d5-1ad29c78d4e8",
   "metadata": {},
   "outputs": [
    {
     "name": "stdout",
     "output_type": "stream",
     "text": [
      "2025-10-01\n"
     ]
    }
   ],
   "source": [
    "from datetime import datetime\n",
    "\n",
    "parsed_date = datetime.strptime(today_string, \"%Y-%m-%d\").date()\n",
    "\n",
    "print(parsed_date)"
   ]
  },
  {
   "cell_type": "code",
   "execution_count": 8,
   "id": "1c83e13a-3907-42fc-a299-0b036b51ce86",
   "metadata": {},
   "outputs": [],
   "source": [
    "import multiprocessing\n",
    "import random\n",
    "import time\n",
    "from datetime import datetime\n",
    "\n",
    "def task():\n",
    "    time.sleep(random.uniform(0,1))\n",
    "    ptint(f\"Current time: {datetime.now().strftime('%H:%M:%S.%f')}\")"
   ]
  },
  {
   "cell_type": "code",
   "execution_count": null,
   "id": "2e57f48c-a578-4ef0-b4c7-e61e499878c6",
   "metadata": {},
   "outputs": [],
   "source": []
  }
 ],
 "metadata": {
  "kernelspec": {
   "display_name": "Python 3 (ipykernel)",
   "language": "python",
   "name": "python3"
  },
  "language_info": {
   "codemirror_mode": {
    "name": "ipython",
    "version": 3
   },
   "file_extension": ".py",
   "mimetype": "text/x-python",
   "name": "python",
   "nbconvert_exporter": "python",
   "pygments_lexer": "ipython3",
   "version": "3.13.5"
  }
 },
 "nbformat": 4,
 "nbformat_minor": 5
}
